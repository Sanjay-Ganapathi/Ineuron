{
 "cells": [
  {
   "cell_type": "markdown",
   "metadata": {},
   "source": [
    "## Stats - 1 Assignment"
   ]
  },
  {
   "cell_type": "markdown",
   "metadata": {},
   "source": [
    "Calculate the mean, median, mode and standard deviation for the problem  statements 1& 2."
   ]
  },
  {
   "cell_type": "code",
   "execution_count": 31,
   "metadata": {},
   "outputs": [],
   "source": [
    "import numpy as np\n",
    "from scipy import stats\n",
    "import seaborn as sns\n",
    "sns.set()"
   ]
  },
  {
   "cell_type": "markdown",
   "metadata": {},
   "source": [
    "Problem Statement 1:  \n",
    "\n",
    "The marks awarded for an assignment set for a Year 8 class of 20 students were as  follows: <br />\n",
    "6 7 5 7 7 8 7 6 9 7 4 10 6 8 8 9 5 6 4 8 \n"
   ]
  },
  {
   "cell_type": "code",
   "execution_count": 2,
   "metadata": {},
   "outputs": [
    {
     "name": "stdout",
     "output_type": "stream",
     "text": [
      "Mean : 6.85 \n",
      "Median : 7.0 \n",
      "Mode : 7 \n",
      "Standard Deviation : 1.59\n"
     ]
    }
   ],
   "source": [
    "marks = [6,7,5,7,7,8,7,6,9,7,4,10,6,8,8,9,5,6,4,8]\n",
    "print(f'Mean : {np.mean(marks)} \\nMedian : {np.median(marks)} \\nMode : {int(stats.mode(marks)[0])} \\nStandard Deviation : {np.round(np.std(marks),3)}')"
   ]
  },
  {
   "cell_type": "code",
   "execution_count": null,
   "metadata": {},
   "outputs": [],
   "source": []
  },
  {
   "cell_type": "markdown",
   "metadata": {},
   "source": [
    "Problem Statement 2:  \n",
    "\n",
    "The number of calls from motorists per day for roadside service was recorded for a  particular month: <br />\n",
    "28, 122, 217, 130, 120, 86, 80, 90, 140, 120, 70, 40, 145, 113, 90, 68, 174, 194, 170,  100, 75, 104, 97, 75, \n",
    "123, 100, 75, 104, 97, 75, 123, 100, 89, 120, 109 "
   ]
  },
  {
   "cell_type": "code",
   "execution_count": 3,
   "metadata": {},
   "outputs": [
    {
     "name": "stdout",
     "output_type": "stream",
     "text": [
      "Mean : 107.514 \n",
      "Median : 100.0 \n",
      "Mode : 75 \n",
      "Standard Deviation : 38.773\n"
     ]
    }
   ],
   "source": [
    "calls = [28, 122, 217, 130, 120, 86, 80, 90, 140, 120, 70, 40, 145, 113, 90, 68, 174, 194, 170, 100, 75, 104, 97, 75, 123, 100, 75, 104, 97, 75, 123, 100, 89, 120, 109]\n",
    "print(f'Mean : {np.round(np.mean(calls),3)} \\nMedian : {np.median(calls)} \\nMode : {int(stats.mode(calls)[0])} \\nStandard Deviation : {np.round(np.std(calls),3)}')"
   ]
  },
  {
   "cell_type": "code",
   "execution_count": null,
   "metadata": {},
   "outputs": [],
   "source": []
  },
  {
   "cell_type": "markdown",
   "metadata": {},
   "source": [
    "Problem Statement 3:  \n",
    "\n",
    "The number of times I go to the gym in weekdays, are given below along with its  associated probability: <br />\n",
    "x = 0, 1, 2, 3, 4, 5 <br/>\n",
    "f(x) = 0.09, 0.15, 0.40, 0.25, 0.10, 0.01 <br/>\n",
    "Calculate the mean no. of workouts in a week. Also evaluate the variance involved in  it.<br/>\n"
   ]
  },
  {
   "cell_type": "code",
   "execution_count": 5,
   "metadata": {},
   "outputs": [],
   "source": [
    "x = np.array([0,1,2,3,4,5])\n",
    "fx = np.array([0.09,0.15,0.40,0.25,0.10,0.01])"
   ]
  },
  {
   "cell_type": "code",
   "execution_count": 18,
   "metadata": {},
   "outputs": [
    {
     "name": "stdout",
     "output_type": "stream",
     "text": [
      "The mean number of workouts in a week is 2.15 \n",
      "and variance involved in it is 1.2275\n"
     ]
    }
   ],
   "source": [
    "mean = sum(x*fx) # μ = Σ(x*f(x))\n",
    "var = sum((np.square(x - mean)) * fx) #Var(X) = Σ((xi - μ)² * f(x))\n",
    "\n",
    "print(f'''The mean number of workouts in a week is {mean} \n",
    "and variance involved in it is {var}''')"
   ]
  },
  {
   "cell_type": "code",
   "execution_count": null,
   "metadata": {},
   "outputs": [],
   "source": []
  },
  {
   "cell_type": "markdown",
   "metadata": {},
   "source": [
    "Problem Statement 4:\n",
    "\n",
    "Let the continuous random variable D denote the diameter of the hole drilled in an \n",
    "aluminum sheet. The target diameter to be achieved is 12.5mm. Random \n",
    "disturbances in the process often result in inaccuracy.\n",
    "Historical data shows that the distribution of D can be modelled by the PDF (𝑑) = \n",
    "20𝑒<sup>−20(𝑑−12.5)</sup>, 𝑑 ≥ 12.5. If a part with diameter > 12.6 mm needs to be scrapped, \n",
    "what is the proportion of those parts? What is the CDF when the diameter is of 11 \n",
    "mm? What is your conclusion regarding the proportion of scraps?"
   ]
  },
  {
   "cell_type": "code",
   "execution_count": 31,
   "metadata": {},
   "outputs": [
    {
     "name": "stdout",
     "output_type": "stream",
     "text": [
      "The proportion of those parts that needs to be scraped is around 13.5%\n"
     ]
    }
   ],
   "source": [
    "from scipy.integrate import quad #For integration\n",
    "\n",
    "#Diameter above 12.6mm needs to be scraped so integrating PDF from 12.6 to infinity would result the proportion\n",
    "\n",
    "def integrand(d):\n",
    "    return 20*(np.exp(-20*(d-12.5)))\n",
    "\n",
    "I,err = quad(integrand,12.6,np.inf) \n",
    "\n",
    "print(f'''The proportion of those parts that needs to be scraped is around {round(I,3) * 100}%''')"
   ]
  },
  {
   "cell_type": "code",
   "execution_count": 43,
   "metadata": {},
   "outputs": [
    {
     "name": "stdout",
     "output_type": "stream",
     "text": [
      "Value is 0\n"
     ]
    }
   ],
   "source": [
    "#CDF = ∫PDF when d = 11mm\n",
    "\n",
    "J,err = quad(integrand,12.5,11) \n",
    "if J < 0:\n",
    "    print('Value is 0')"
   ]
  },
  {
   "cell_type": "markdown",
   "metadata": {},
   "source": [
    "Since the value of CDF can only be between 0 to 1 , so CDF when the diameter is of 11mm is 0(Zero)"
   ]
  },
  {
   "cell_type": "code",
   "execution_count": null,
   "metadata": {},
   "outputs": [],
   "source": []
  },
  {
   "cell_type": "markdown",
   "metadata": {},
   "source": [
    "Problem Statement 5:\n",
    "\n",
    "A company manufactures LED bulbs with a faulty rate of 30%. If I randomly select 6\n",
    "chosen LEDs, what is the probability of having 2 faulty LEDs in my sample?\n",
    "Calculate the average value of this process. Also evaluate the standard deviation\n",
    "associated with it."
   ]
  },
  {
   "cell_type": "code",
   "execution_count": 58,
   "metadata": {},
   "outputs": [
    {
     "name": "stdout",
     "output_type": "stream",
     "text": [
      "Probability of having 2 faulty LEDs in my sample is  0.324\n",
      "Average value of this process 1.7999999999999998\n",
      "Standard Deviation of this process 1.1224972160321822\n"
     ]
    }
   ],
   "source": [
    "from scipy.stats import binom\n",
    "\n",
    "#Choosing 2(k) from 6(n) and probability of fault(p) is 0.3 and probability of not fault(q) is 0.7(1-p)\n",
    "n = 6\n",
    "k = 2\n",
    "p = 0.3\n",
    "q = 1 - p\n",
    "\n",
    "prob = binom.pmf(k=k,n=n,p=p)  #binom.pmf(k) = choose(n, k) * p**k * (1-p)**(n-k) \n",
    "\n",
    "print('Probability of having 2 faulty LEDs in my sample is ',round(prob,3))\n",
    "print('Average value of this process',n*p)\n",
    "print('Standard Deviation of this process',np.sqrt(n*p*q))"
   ]
  },
  {
   "cell_type": "code",
   "execution_count": null,
   "metadata": {},
   "outputs": [],
   "source": []
  },
  {
   "cell_type": "markdown",
   "metadata": {},
   "source": [
    "Problem Statement 6:\n",
    "\n",
    "Gaurav and Barakha are both preparing for entrance exams. Gaurav attempts to\n",
    "solve 8 questions per day with a correction rate of 75%, while Barakha averages\n",
    "around 12 questions per day with a correction rate of 45%. What is the probability\n",
    "that each of them will solve 5 questions correctly?<br/> What happens in cases of 4 and 6\n",
    "correct solutions? What do you infer from it?<br/> What are the two main governing\n",
    "factors affecting their ability to solve questions correctly? <br/>Give a pictorial\n",
    "representation of the same to validate your answer"
   ]
  },
  {
   "cell_type": "code",
   "execution_count": 14,
   "metadata": {},
   "outputs": [],
   "source": [
    "from scipy.stats import binom\n",
    "import matplotlib.pyplot as plt\n",
    "%matplotlib inline"
   ]
  },
  {
   "cell_type": "code",
   "execution_count": 71,
   "metadata": {},
   "outputs": [
    {
     "name": "stdout",
     "output_type": "stream",
     "text": [
      "The probability that Gaurav will solve 5 questions correctly 0.2076\n",
      "The probability that Barakha will solve 5 questions correctly 0.2225\n",
      "The probability that Gaurav will solve 4 questions correctly 0.0865\n",
      "The probability that Barakha will solve 4 questions correctly 0.1700\n",
      "The probability that Gaurav will solve 6 questions correctly 0.3115\n",
      "The probability that Barakha will solve 6 questions correctly 0.2124\n"
     ]
    }
   ],
   "source": [
    "gaurav_total_questions = 8\n",
    "barakha_total_questions = 12\n",
    "\n",
    "gaurav_corr_rate = 0.75\n",
    "barakha_corr_rate = 0.45\n",
    "\n",
    "#binom.pmf(k) = choose(n, k) * p**k * (1-p)**(n-k) \n",
    "\n",
    "print('The probability that Gaurav will solve 5 questions correctly',f'{binom.pmf(k=5,n=gaurav_total_questions,p=gaurav_corr_rate):.4f}')\n",
    "print('The probability that Barakha will solve 5 questions correctly',f'{binom.pmf(k=5,n=barakha_total_questions,p=barakha_corr_rate):.4f}')\n",
    "\n",
    "print('The probability that Gaurav will solve 4 questions correctly',f'{binom.pmf(k=4,n=gaurav_total_questions,p=gaurav_corr_rate):.4f}')\n",
    "print('The probability that Barakha will solve 4 questions correctly',f'{binom.pmf(k=4,n=barakha_total_questions,p=barakha_corr_rate):.4f}')\n",
    "\n",
    "print('The probability that Gaurav will solve 6 questions correctly',f'{binom.pmf(k=6,n=gaurav_total_questions,p=gaurav_corr_rate):.4f}')\n",
    "print('The probability that Barakha will solve 6 questions correctly',f'{binom.pmf(k=6,n=barakha_total_questions,p=barakha_corr_rate):.4f}')"
   ]
  },
  {
   "cell_type": "code",
   "execution_count": 76,
   "metadata": {},
   "outputs": [],
   "source": [
    "gaurav_pmf = [binom.pmf(k,n = gaurav_total_questions,p=gaurav_corr_rate) for k in range(gaurav_total_questions+1)]\n",
    "barakha_pmf = [binom.pmf(k,n = barakha_total_questions,p=barakha_corr_rate) for k in range(barakha_total_questions+1)]"
   ]
  },
  {
   "cell_type": "code",
   "execution_count": 105,
   "metadata": {},
   "outputs": [
    {
     "data": {
      "image/png": "[encoded data removed]",
      "text/plain": [
       "<Figure size 1080x720 with 2 Axes>"
      ]
     },
     "metadata": {
      "needs_background": "light"
     },
     "output_type": "display_data"
    }
   ],
   "source": [
    "fig,((ax1,ax2)) = plt.subplots(2,1,figsize = (15,10))\n",
    "\n",
    "ax1.bar(list(range(gaurav_total_questions+1)), gaurav_pmf)\n",
    "ax1.set_title('Distribution of Gaurav')\n",
    "ax1.set_xticks(list(range(gaurav_total_questions+1)))\n",
    "\n",
    "ax2.bar(list(range(barakha_total_questions+1)), barakha_pmf)\n",
    "ax2.set_title('Distribution of Barakha')\n",
    "ax2.set_xticks(list(range(barakha_total_questions+1)))\n",
    "\n",
    "\n",
    "plt.show()"
   ]
  },
  {
   "cell_type": "code",
   "execution_count": null,
   "metadata": {},
   "outputs": [],
   "source": []
  },
  {
   "cell_type": "markdown",
   "metadata": {},
   "source": [
    "Problem Statement 7:\n",
    "\n",
    "Customers arrive at a rate of 72 per hour to my shop. What is the probability of 𝑘\n",
    "customers arriving in 4 minutes? <br/>a) 5 customers <br/> b) not more than 3 customers <br/> c)\n",
    "more than 3 customers. <br/>Give a pictorial representation of the same to validate your\n",
    "answer."
   ]
  },
  {
   "cell_type": "code",
   "execution_count": 1,
   "metadata": {},
   "outputs": [],
   "source": [
    "from scipy.stats import poisson"
   ]
  },
  {
   "cell_type": "code",
   "execution_count": 8,
   "metadata": {},
   "outputs": [
    {
     "name": "stdout",
     "output_type": "stream",
     "text": [
      "Probability of 5 customers arriving in 4 minutes is  0.17474768364388296\n",
      "Probability of not more than 3 customers arriving in 4 minutes is  0.29422991649656405\n",
      "Probability of more than 3 customers arriving in 4 minutes is  0.705770083503436\n"
     ]
    }
   ],
   "source": [
    "mean = (72/60) * 4 #per hour is converted to per min \n",
    "\n",
    "print('Probability of 5 customers arriving in 4 minutes is ',poisson.pmf(k = 5,mu = mean))\n",
    "\n",
    "print('Probability of not more than 3 customers arriving in 4 minutes is ', prob_3 := sum([poisson.pmf(k = r,mu = mean) for r in range(4)]))\n",
    "\n",
    "print('Probability of more than 3 customers arriving in 4 minutes is ',1 - prob_3)"
   ]
  },
  {
   "cell_type": "code",
   "execution_count": 38,
   "metadata": {},
   "outputs": [
    {
     "data": {
      "image/png": "[encoded data removed]",
      "text/plain": [
       "<Figure size 720x360 with 1 Axes>"
      ]
     },
     "metadata": {},
     "output_type": "display_data"
    }
   ],
   "source": [
    "x = np.arange(20)\n",
    "data = poisson.pmf(k = x,mu = 4)\n",
    "\n",
    "fig = plt.figure(figsize= (10,5) )\n",
    "plt.title('Probability Mass function',fontsize = 20)\n",
    "plt.plot(x,data)\n",
    "plt.show()"
   ]
  },
  {
   "cell_type": "code",
   "execution_count": null,
   "metadata": {},
   "outputs": [],
   "source": []
  },
  {
   "cell_type": "markdown",
   "metadata": {},
   "source": [
    "Problem Statement 8:\n",
    "\n",
    "I work as a data analyst in Aeon Learning Pvt. Ltd. After analyzing data, I make \n",
    "reports, where I have the efficiency of entering 77 words per minute with 6 errors per \n",
    "hour. <br/>\n",
    "What is the probability that I will commit 2 errors in a 455-word financial report?\n",
    "What happens when the no. of words increases/decreases (in case of 1000 words, \n",
    "255 words)?<br/> \n",
    "How is the 𝜆 affected? <br/>\n",
    "How does it influence the PMF? <br/> \n",
    "Give a pictorial representation of the same to validate your answer<br/>"
   ]
  },
  {
   "cell_type": "code",
   "execution_count": 55,
   "metadata": {},
   "outputs": [
    {
     "name": "stdout",
     "output_type": "stream",
     "text": [
      "455 word financial report can be written in 5.909 minutes\n",
      "Errors per minute is 0.1\n",
      "Rate parameter(lambda) = 0.5909\n"
     ]
    }
   ],
   "source": [
    "print(f'455 word financial report can be written in {(455/77):.3f} minutes')\n",
    "print(f'Errors per minute is {(6/60)}')\n",
    "\n",
    "lmda = 5.909 * 0.1\n",
    "print(f'Rate parameter(lambda) = {lmda}')\n"
   ]
  },
  {
   "cell_type": "code",
   "execution_count": 57,
   "metadata": {},
   "outputs": [
    {
     "name": "stdout",
     "output_type": "stream",
     "text": [
      "Probability that 2 errors will be commited in a 455-word financial report is  0.097\n"
     ]
    }
   ],
   "source": [
    "print('Probability that 2 errors will be commited in a 455-word financial report is ',round(poisson.pmf(mu = lmda,k=2),3))"
   ]
  },
  {
   "cell_type": "code",
   "execution_count": 61,
   "metadata": {},
   "outputs": [
    {
     "name": "stdout",
     "output_type": "stream",
     "text": [
      "\n",
      "If the number of words increases, the time taken to write them will increase. If the time increases, the expected number of errors in that time period will increase. Hence, λ will increase.\n",
      "\n",
      "If the number of words is 1000, then \n",
      "\n",
      "λ = 1.299\n",
      "\n",
      "Hence, λ has increased.\n",
      "\n",
      "If the number of words decreases, the time taken to write them will decrease. If the time decreases, the expected number of errors in that time period will also decrease. Hence, λ will decrease.\n",
      "\n",
      "If the number of words is 255, then \n",
      "\n",
      "λ = 0.331\n",
      "\n",
      "Hence, λ has decreased.\n"
     ]
    }
   ],
   "source": [
    "print(f'''\n",
    "If the number of words increases, the time taken to write them will increase. If the time increases, the expected number of errors in that time period will increase. Hence, λ will increase.\n",
    "\n",
    "If the number of words is 1000, then \n",
    "\n",
    "λ = {(1000/77)*(6/60):.3f}\n",
    "\n",
    "Hence, λ has increased.\n",
    "\n",
    "If the number of words decreases, the time taken to write them will decrease. If the time decreases, the expected number of errors in that time period will also decrease. Hence, λ will decrease.\n",
    "\n",
    "If the number of words is 255, then \n",
    "\n",
    "λ = {(255/77)*(6/60):.3f}\n",
    "\n",
    "Hence, λ has decreased.''')"
   ]
  },
  {
   "cell_type": "code",
   "execution_count": 67,
   "metadata": {},
   "outputs": [
    {
     "name": "stdout",
     "output_type": "stream",
     "text": [
      "\n",
      "In the case when we want to know the probability of 2 errors, the more closer the λ is to 2, higher will be the probability.\n",
      "So, if the number of words increases to 1000, λ  will increase to 1.299 which is closer to 2 than the case when the number of words decreases to 255 in which case λ  decreases to 0.331 and gets farther from 2.\n",
      "\n",
      "Hence,the probability of making 2 errors will increase if the number of words is increased, and the probability of making 2 errors will decrease if the number of words is decreased.\n"
     ]
    }
   ],
   "source": [
    "print('''\n",
    "In the case when we want to know the probability of 2 errors, the more closer the λ is to 2, higher will be the probability.\n",
    "So, if the number of words increases to 1000, λ  will increase to 1.299 which is closer to 2 than the case when the number of words decreases to 255 in which case λ  decreases to 0.331 and gets farther from 2.\n",
    "\n",
    "Hence,the probability of making 2 errors will increase if the number of words is increased, and the probability of making 2 errors will decrease if the number of words is decreased.''')"
   ]
  },
  {
   "cell_type": "code",
   "execution_count": 72,
   "metadata": {},
   "outputs": [
    {
     "data": {
      "image/png": "[encoded data removed]",
      "text/plain": [
       "<Figure size 720x360 with 1 Axes>"
      ]
     },
     "metadata": {},
     "output_type": "display_data"
    }
   ],
   "source": [
    "y1 = np.arange(10)\n",
    "data1 = poisson.pmf(k = y1,mu = lmda)\n",
    "\n",
    "fig = plt.figure(figsize= (10,5) )\n",
    "plt.title('Probability Mass function when λ is 0.5909 ',fontsize = 20)\n",
    "plt.plot(y1,data1)\n",
    "plt.show()"
   ]
  },
  {
   "cell_type": "code",
   "execution_count": 77,
   "metadata": {},
   "outputs": [
    {
     "data": {
      "image/png": "[encoded data removed]",
      "text/plain": [
       "<Figure size 720x360 with 1 Axes>"
      ]
     },
     "metadata": {},
     "output_type": "display_data"
    }
   ],
   "source": [
    "y2 = np.arange(10)\n",
    "data2 = poisson.pmf(k = y2,mu = 1.299)\n",
    "\n",
    "fig = plt.figure(figsize= (10,5) )\n",
    "plt.title('Probability Mass function when λ is 1.299 ',fontsize = 20)\n",
    "plt.plot(y2,data2)\n",
    "plt.show()"
   ]
  },
  {
   "cell_type": "code",
   "execution_count": 75,
   "metadata": {},
   "outputs": [
    {
     "data": {
      "image/png": "[encoded data removed]",
      "text/plain": [
       "<Figure size 720x360 with 1 Axes>"
      ]
     },
     "metadata": {},
     "output_type": "display_data"
    }
   ],
   "source": [
    "y3 = np.arange(10)\n",
    "data3 = poisson.pmf(k = y3,mu = 0.331)\n",
    "\n",
    "fig = plt.figure(figsize= (10,5) )\n",
    "plt.title('Probability Mass function when λ is 0.331 ',fontsize = 20)\n",
    "plt.plot(y3,data3)\n",
    "plt.show()"
   ]
  },
  {
   "cell_type": "code",
   "execution_count": null,
   "metadata": {},
   "outputs": [],
   "source": []
  },
  {
   "cell_type": "markdown",
   "metadata": {},
   "source": [
    "Problem Statement 10:\n",
    "\n",
    "Please compute the following:<br/>\n",
    "a) P(Z > 1.26), . P(Z < −0.86), P(Z > −1.37), P(−1.25 < Z < 0.37), . P(Z ≤ −4.6)<br/>\n",
    "b) Find the value 𝑧 such that 𝑃(𝑍 > 𝑧) = 0.05<br/>\n",
    "c) Find the value of 𝑧 such that 𝑃(−𝑧 < 𝑍 < 𝑧) = 0.99"
   ]
  },
  {
   "cell_type": "code",
   "execution_count": 78,
   "metadata": {},
   "outputs": [],
   "source": [
    "from scipy.stats import norm"
   ]
  },
  {
   "cell_type": "code",
   "execution_count": 88,
   "metadata": {},
   "outputs": [
    {
     "data": {
      "text/plain": [
       "0.10383468112130045"
      ]
     },
     "execution_count": 88,
     "metadata": {},
     "output_type": "execute_result"
    }
   ],
   "source": [
    "# a) P(Z > 1.26) = 1 - P(Z <= 1.26)\n",
    "1 - norm(0,1).cdf(1.26)\n"
   ]
  },
  {
   "cell_type": "code",
   "execution_count": 90,
   "metadata": {},
   "outputs": [
    {
     "data": {
      "text/plain": [
       "0.1948945212518084"
      ]
     },
     "execution_count": 90,
     "metadata": {},
     "output_type": "execute_result"
    }
   ],
   "source": [
    "# P(Z < −0.86)\n",
    "norm(0,1).cdf(-0.86)"
   ]
  },
  {
   "cell_type": "code",
   "execution_count": 92,
   "metadata": {},
   "outputs": [
    {
     "data": {
      "text/plain": [
       "0.914656549178033"
      ]
     },
     "execution_count": 92,
     "metadata": {},
     "output_type": "execute_result"
    }
   ],
   "source": [
    "# P(Z > −1.37) = P(Z < 1.37) \n",
    "norm(0,1).cdf(1.37)"
   ]
  },
  {
   "cell_type": "code",
   "execution_count": 94,
   "metadata": {},
   "outputs": [
    {
     "data": {
      "text/plain": [
       "0.5386589811336914"
      ]
     },
     "execution_count": 94,
     "metadata": {},
     "output_type": "execute_result"
    }
   ],
   "source": [
    "#P(−1.25 < Z < 0.37) = P(Z < 0.37) - P(Z < -1.25)\n",
    "norm(0,1).cdf(0.37) - norm(0,1).cdf(-1.25)"
   ]
  },
  {
   "cell_type": "code",
   "execution_count": 98,
   "metadata": {},
   "outputs": [
    {
     "name": "stdout",
     "output_type": "stream",
     "text": [
      "2.1124547025028537e-06\n",
      "Cannot be found hence can be assumes as 0\n"
     ]
    }
   ],
   "source": [
    "#P(Z ≤ −4.6)\n",
    "print(norm(0,1).cdf(-4.6))\n",
    "\n",
    "print('Cannot be found hence can be assumed as 0')"
   ]
  },
  {
   "cell_type": "code",
   "execution_count": 101,
   "metadata": {},
   "outputs": [
    {
     "name": "stdout",
     "output_type": "stream",
     "text": [
      "0.9505285319663519\n",
      "Hence Z is 1.65\n"
     ]
    }
   ],
   "source": [
    "#b) Find the value 𝑧 such that 𝑃(𝑍 > 𝑧) = 0.05\n",
    "# P(Z < z) = 1 - 𝑃(𝑍 > 𝑧) = 1 - 0.05 = 0.95\n",
    "\n",
    "print(norm(0,1).cdf(1.65)) #Can be seen from table\n",
    "print('Hence Z is 1.65')"
   ]
  },
  {
   "cell_type": "code",
   "execution_count": 105,
   "metadata": {},
   "outputs": [
    {
     "data": {
      "text/plain": [
       "0.9906776239525625"
      ]
     },
     "execution_count": 105,
     "metadata": {},
     "output_type": "execute_result"
    }
   ],
   "source": [
    "#c) Find the value of 𝑧 such that 𝑃(−𝑧 < 𝑍 < 𝑧) = 0.99\n",
    "#P(Z < z) - P(Z < -z) = 0.99\n",
    "\n",
    "norm(0,1).cdf(2.6) - norm(0,1).cdf(-2.6)\n"
   ]
  },
  {
   "cell_type": "code",
   "execution_count": null,
   "metadata": {},
   "outputs": [],
   "source": []
  },
  {
   "cell_type": "markdown",
   "metadata": {},
   "source": [
    "Problem Statement 11:\n",
    "\n",
    "The current flow in a copper wire follow a normal distribution with a mean of 10 𝑚A\n",
    "and a variance of 4 (𝑚𝐴)<sup>2</sup>.\n",
    "What is the probability that a current measurement will exceed 13 𝑚𝐴? What is the\n",
    "probability that a current measurement is between 9 and 11mA? Determine the\n",
    "current measurement which has a probability of 0.98."
   ]
  },
  {
   "cell_type": "code",
   "execution_count": 107,
   "metadata": {},
   "outputs": [
    {
     "data": {
      "text/plain": [
       "0.06680720126885809"
      ]
     },
     "execution_count": 107,
     "metadata": {},
     "output_type": "execute_result"
    }
   ],
   "source": [
    "mean = 10\n",
    "std = np.sqrt(4)\n",
    "\n",
    "# What is the probability that a current measurement will exceed 13 𝑚𝐴 = P(X > 13) = 1 - P(X < 13)\n",
    "1 - norm(mean,std).cdf(13)"
   ]
  },
  {
   "cell_type": "code",
   "execution_count": 111,
   "metadata": {},
   "outputs": [
    {
     "data": {
      "text/plain": [
       "0.38292492254802624"
      ]
     },
     "execution_count": 111,
     "metadata": {},
     "output_type": "execute_result"
    }
   ],
   "source": [
    "# What is the probability that a current measurement is between 9 and 11mA = P(X < 11) - P(X < 9) \n",
    "(norm(mean,std).cdf(11) - norm(mean,std).cdf(9))"
   ]
  },
  {
   "cell_type": "code",
   "execution_count": 120,
   "metadata": {},
   "outputs": [
    {
     "name": "stdout",
     "output_type": "stream",
     "text": [
      "0.9800604976439199\n",
      "14.11mA has a probability of 0.98\n"
     ]
    }
   ],
   "source": [
    "# Determine the current measurement which has a probability of 0.98.\n",
    "print(norm(mean,std).cdf(14.11)) \n",
    "print('14.11mA has a probability of 0.98')"
   ]
  },
  {
   "cell_type": "code",
   "execution_count": null,
   "metadata": {},
   "outputs": [],
   "source": []
  },
  {
   "cell_type": "markdown",
   "metadata": {},
   "source": [
    "Problem Statement 12:\n",
    "    \n",
    "The shaft in a piston has its diameter normally distributed with a mean of 0.2508 inch\n",
    "and a standard deviation of 0.0005 inch. <br/>The specifications of the shaft are 0.2500 ∓\n",
    "0.0015 inch. What proportion of shafts are in sync with the specifications? If the\n",
    "process is centered so that the mean is equal to the target value of 0.2500, what\n",
    "proportion of shafts conform to the new specifications? What is your conclusion from\n",
    "this experiment?"
   ]
  },
  {
   "cell_type": "code",
   "execution_count": 125,
   "metadata": {},
   "outputs": [
    {
     "name": "stdout",
     "output_type": "stream",
     "text": [
      "0.91924122831152\n",
      "Proportion of shafts that are in sync with the specifications is 91.924122831152 %\n"
     ]
    }
   ],
   "source": [
    "#P(0.2500 - 0.0015 < X <  0.2500 + 0.0015) = P(0.2485 < X <  0.2515) = P(X < 0.2515) - P(X < 0.2485)\n",
    "\n",
    "mean = 0.2508\n",
    "std = 0.0005\n",
    "\n",
    "print(prop := norm(mean,std).cdf(0.2515) - norm(mean,std).cdf(0.2485))\n",
    "\n",
    "print('Proportion of shafts that are in sync with the specifications is',prop*100,'%' )\n"
   ]
  },
  {
   "cell_type": "code",
   "execution_count": 126,
   "metadata": {},
   "outputs": [
    {
     "name": "stdout",
     "output_type": "stream",
     "text": [
      "0.9973002039367398\n",
      "Proportion of shafts that are in sync with the specifications is 99.73002039367398 %\n"
     ]
    }
   ],
   "source": [
    "new_mean = 0.2500\n",
    "\n",
    "print(new_prop := norm(new_mean,std).cdf(0.2515) - norm(new_mean,std).cdf(0.2485))\n",
    "print('Proportion of shafts that are in sync with the specifications is',new_prop*100,'%' )"
   ]
  },
  {
   "cell_type": "code",
   "execution_count": 128,
   "metadata": {},
   "outputs": [
    {
     "name": "stdout",
     "output_type": "stream",
     "text": [
      "Proportion of shafts that are in sync with the specifications is increased from 92% to 99% when mean is changed to the target value of 0.2500\n"
     ]
    }
   ],
   "source": [
    "print('Proportion of shafts that are in sync with the specifications is increased from 92% to 99% when mean is changed to the target value of 0.2500')"
   ]
  },
  {
   "cell_type": "code",
   "execution_count": null,
   "metadata": {},
   "outputs": [],
   "source": []
  }
 ],
 "metadata": {
  "kernelspec": {
   "display_name": "Python 3",
   "language": "python",
   "name": "python3"
  },
  "language_info": {
   "codemirror_mode": {
    "name": "ipython",
    "version": 3
   },
   "file_extension": ".py",
   "mimetype": "text/x-python",
   "name": "python",
   "nbconvert_exporter": "python",
   "pygments_lexer": "ipython3",
   "version": "3.8.3"
  }
 },
 "nbformat": 4,
 "nbformat_minor": 4
}
