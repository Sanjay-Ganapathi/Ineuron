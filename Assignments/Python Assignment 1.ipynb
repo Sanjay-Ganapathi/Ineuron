{
 "cells": [
  {
   "cell_type": "markdown",
   "metadata": {},
   "source": [
    "# Python Assignment 1"
   ]
  },
  {
   "cell_type": "markdown",
   "metadata": {},
   "source": [
    "1. Write a program which will find all such numbers which are divisible by 7 but are not a multiple of 5, between 2000 and 3200 (both included). The numbers obtained should be printed  in a comma-separated sequence on a single line."
   ]
  },
  {
   "cell_type": "code",
   "execution_count": 14,
   "metadata": {},
   "outputs": [
    {
     "name": "stdout",
     "output_type": "stream",
     "text": [
      "Enter numbers between 2000 and 3200 separated by commas (,) 3143,3136,3522,23,2904\n",
      "3143,3136\n"
     ]
    }
   ],
   "source": [
    "num = input('Enter numbers between 2000 and 3200 separated by commas (,) ')\n",
    "lst = num.split(',')\n",
    "lst = [int(i) for i in lst]\n",
    "nums = []\n",
    "for num in lst:\n",
    "    if num >= 2000 and num <=3200:\n",
    "        if num % 7 == 0 and num % 5 != 0:\n",
    "            nums.append(str(num))\n",
    "\n",
    "print(','.join(nums))\n",
    "    "
   ]
  },
  {
   "cell_type": "code",
   "execution_count": null,
   "metadata": {},
   "outputs": [],
   "source": []
  },
  {
   "cell_type": "markdown",
   "metadata": {},
   "source": [
    "2. Write a Python program to accept the user's first and last name and then getting them printed in the the reverse order with a space between first name and last name"
   ]
  },
  {
   "cell_type": "code",
   "execution_count": 16,
   "metadata": {},
   "outputs": [
    {
     "name": "stdout",
     "output_type": "stream",
     "text": [
      "Enter the first nameEthan\n",
      "Enter the last nameHunt\n",
      "nahtE tnuH\n"
     ]
    }
   ],
   "source": [
    "fname = input('Enter the first name')\n",
    "lname = input('Enter the last name')\n",
    "print(fname[::-1],lname[::-1],sep = ' ')"
   ]
  },
  {
   "cell_type": "code",
   "execution_count": null,
   "metadata": {},
   "outputs": [],
   "source": []
  },
  {
   "cell_type": "markdown",
   "metadata": {},
   "source": [
    "3. Write a Python program to find the volume of a sphere with diameter 12"
   ]
  },
  {
   "cell_type": "code",
   "execution_count": 17,
   "metadata": {},
   "outputs": [],
   "source": [
    "import math"
   ]
  },
  {
   "cell_type": "code",
   "execution_count": 24,
   "metadata": {},
   "outputs": [
    {
     "name": "stdout",
     "output_type": "stream",
     "text": [
      "Volume of the sphere is 904.78\n"
     ]
    }
   ],
   "source": [
    "dia = 12\n",
    "r = dia/2\n",
    "vol_sphere = (4/3) * math.pi * pow(r,3)\n",
    "print(f'Volume of the sphere is {round(vol_sphere,2)}')"
   ]
  },
  {
   "cell_type": "code",
   "execution_count": null,
   "metadata": {},
   "outputs": [],
   "source": []
  }
 ],
 "metadata": {
  "kernelspec": {
   "display_name": "Python 3",
   "language": "python",
   "name": "python3"
  },
  "language_info": {
   "codemirror_mode": {
    "name": "ipython",
    "version": 3
   },
   "file_extension": ".py",
   "mimetype": "text/x-python",
   "name": "python",
   "nbconvert_exporter": "python",
   "pygments_lexer": "ipython3",
   "version": "3.8.3"
  }
 },
 "nbformat": 4,
 "nbformat_minor": 4
}
