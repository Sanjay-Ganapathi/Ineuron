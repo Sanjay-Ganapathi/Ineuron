{
 "cells": [
  {
   "cell_type": "markdown",
   "metadata": {},
   "source": [
    "# Numpy Assignment"
   ]
  },
  {
   "cell_type": "markdown",
   "metadata": {},
   "source": [
    "Problem Statement 1: \n",
    "\n",
    "\n",
    "Write a function so that the columns of the output matrix are powers of the input vector. \n",
    "The order of the powers is determined by the increasing boolean argument. Specifically, when  increasing is False, the i-th output column is the input vector raised element-wise to the power  of N - i - 1. <br/>\n",
    "HINT: Such a matrix with a geometric progression in each row is named for Alexandre Theophile Vandermonde.\n"
   ]
  },
  {
   "cell_type": "code",
   "execution_count": 60,
   "metadata": {},
   "outputs": [],
   "source": [
    "import numpy as np"
   ]
  },
  {
   "cell_type": "code",
   "execution_count": 71,
   "metadata": {},
   "outputs": [
    {
     "data": {
      "text/plain": [
       "array([[ 27,   9,   3,   1],\n",
       "       [ 64,  16,   4,   1],\n",
       "       [125,  25,   5,   1],\n",
       "       [216,  36,   6,   1]], dtype=int32)"
      ]
     },
     "execution_count": 71,
     "metadata": {},
     "output_type": "execute_result"
    }
   ],
   "source": [
    "def func(lst,n):\n",
    "    return np.column_stack([np.array(lst) ** (n - i - 1) for i in range(n)])\n",
    "\n",
    "func([3,4,5,6],4)"
   ]
  },
  {
   "cell_type": "code",
   "execution_count": null,
   "metadata": {},
   "outputs": [],
   "source": []
  },
  {
   "cell_type": "markdown",
   "metadata": {},
   "source": [
    "Problem Statement 2: \n",
    "\n",
    "\n",
    "Given a sequence of n values x1, x2, ..., xn and a window size k>0, the k-th moving average of  the given sequence is defined as follows: \n",
    "\n",
    "The moving average sequence has n-k+1 elements as shown below. \n",
    "The moving averages with k=4 of a ten-value sequence (n=10) is shown below\n",
    "<br/>\n",
    "i 1 2 3 4 5 6 7 8 9 10 <br/>\n",
    "===== == == == == == == == == == == <br/> \n",
    "Input 10 20 30 40 50 60 70 80 90 100  <br/>\n",
    "y1 25 = (10+20+30+40)/4 <br/>\n",
    "y2 35 = (20+30+40+50)/4 <br/>\n",
    "y3 45 = (30+40+50+60)/4 <br/>\n",
    "y4 55 = (40+50+60+70)/4 <br/>\n",
    "y5 65 = (50+60+70+80)/4 <br/>\n",
    "y6 75 = (60+70+80+90)/4 <br/>\n",
    "y7 85 = (70+80+90+100)/4 <br/>\n",
    "\n",
    "<br/>\n",
    "Thus, the moving average sequence has n-k+1=10-4+1=7 values.<br/>\n",
    "Question: Write a function to find moving average in an array over a window: <br/> Test it over [3, 5, 7, 2, 8, 10, 11, 65, 72, 81, 99, 100, 150] and window of 3. \n"
   ]
  },
  {
   "cell_type": "code",
   "execution_count": 54,
   "metadata": {},
   "outputs": [],
   "source": [
    "def moving_avg(lst,w):\n",
    "    avg = []\n",
    "    if w>0:\n",
    "        for i in range(len(lst)-w+1):    \n",
    "             avg.append(str(round(np.array(lst)[i:w+i].mean(),2)))\n",
    "    \n",
    "    return ', '.join(avg)"
   ]
  },
  {
   "cell_type": "code",
   "execution_count": 55,
   "metadata": {},
   "outputs": [
    {
     "data": {
      "text/plain": [
       "'5.0, 4.67, 5.67, 6.67, 9.67, 28.67, 49.33, 72.67, 84.0, 93.33, 116.33'"
      ]
     },
     "execution_count": 55,
     "metadata": {},
     "output_type": "execute_result"
    }
   ],
   "source": [
    "moving_avg([3, 5, 7, 2, 8, 10, 11, 65, 72, 81, 99, 100, 150],3)"
   ]
  }
 ],
 "metadata": {
  "kernelspec": {
   "display_name": "Python 3",
   "language": "python",
   "name": "python3"
  },
  "language_info": {
   "codemirror_mode": {
    "name": "ipython",
    "version": 3
   },
   "file_extension": ".py",
   "mimetype": "text/x-python",
   "name": "python",
   "nbconvert_exporter": "python",
   "pygments_lexer": "ipython3",
   "version": "3.8.3"
  }
 },
 "nbformat": 4,
 "nbformat_minor": 4
}
