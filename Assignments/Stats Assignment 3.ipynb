{
 "cells": [
  {
   "cell_type": "markdown",
   "metadata": {},
   "source": [
    "## Stats Assignment 3"
   ]
  },
  {
   "cell_type": "markdown",
   "metadata": {},
   "source": [
    "Problem Statement 1: \n",
    "    \n",
    "Blood glucose levels for obese patients have a mean of 100 with a standard deviation of 15. A researcher thinks that a diet high in raw cornstarch will have a positive effect on  blood glucose levels. A sample of 36 patients who have tried the raw cornstarch diet  have a mean glucose level of 108. Test the hypothesis that the raw cornstarch had an  effect or not. \n"
   ]
  },
  {
   "cell_type": "code",
   "execution_count": 2,
   "metadata": {},
   "outputs": [],
   "source": [
    "import numpy as np"
   ]
  },
  {
   "cell_type": "markdown",
   "metadata": {},
   "source": [
    "𝐻0: 𝜇 = 100<br/>\n",
    "𝐻1: 𝜇 ≠ 100"
   ]
  },
  {
   "cell_type": "code",
   "execution_count": 3,
   "metadata": {},
   "outputs": [
    {
     "name": "stdout",
     "output_type": "stream",
     "text": [
      "Null Hypothesis(H0) is rejected\n",
      "Value of Z Score is: 3.20 \n"
     ]
    }
   ],
   "source": [
    "mu = 100\n",
    "std = 15\n",
    "n = 36\n",
    "x = 108\n",
    "alpha = 0.05\n",
    "\n",
    "z_value =  1.96 # 1 - (0.05/2) = 0.975 ; 0.975 value from Z test table we get : 1.9 + 0.06 = 1.96\n",
    "\n",
    "z_score = (x - mu)/(std/np.sqrt(n))\n",
    "\n",
    "if z_score > -z_value and z_score < z_value:\n",
    "    print(f'Null Hypothesis(H0) is accepted as value of Z Score lies between {-z_value,z_value}')\n",
    "    print(f'Value of Z Score is: {z_score:.2f} ')\n",
    "else :\n",
    "    print('Null Hypothesis(H0) is rejected')\n",
    "    print(f'Value of Z Score is: {z_score:.2f} ')"
   ]
  },
  {
   "cell_type": "code",
   "execution_count": null,
   "metadata": {},
   "outputs": [],
   "source": []
  },
  {
   "cell_type": "markdown",
   "metadata": {},
   "source": [
    "Problem Statement 2: \n",
    "\n",
    "In one state, 52% of the voters are Republicans, and 48% are Democrats. In a second  state, 47% of the voters are Republicans, and 53% are Democrats. Suppose a simple  random sample of 100 voters are surveyed from each state. \n",
    "What is the probability that the survey will show a greater percentage of Republican  voters in the second state than in the first state?\n"
   ]
  },
  {
   "cell_type": "code",
   "execution_count": 9,
   "metadata": {},
   "outputs": [
    {
     "name": "stdout",
     "output_type": "stream",
     "text": [
      "Z_score(p1,p2) :  -0.5661385170722983\n"
     ]
    }
   ],
   "source": [
    "#P1 = the proportion of Republican voters in the first state\n",
    "#P2 = the proportion of Republican voters in the second state\n",
    "#p1 = the proportion of Republican voters in the sample from the first state\n",
    "#p2 = the proportion of Republican voters in the sample from the second state. \n",
    "#n1 = the number of voters sampled from the first state \n",
    "#n2 = the number of voters sampled from the second state  \n",
    "\n",
    "P1 = 0.52\n",
    "P2 = 0.48\n",
    "n1 = 100\n",
    "n2 = 100\n",
    "\n",
    "#The mean of the difference in sample proportions .i.e Expected Value E[p1 -p2] = P1 - P2 = mu\n",
    "mu =  P1 - P2\n",
    "\n",
    "#the standard deviation of the difference\n",
    "sigma = np.sqrt((((P1 * (1-P1) ) / n1) + ((P2 * (1-P2)) /n2)))\n",
    "\n",
    "#This problem requires us to find the probability that p1 is less than p2. \n",
    "#This is equivalent to finding the probability that p1 - p2 < 0. \n",
    "x = 0\n",
    "#To find this probability, we need to transform the random variable (p1 - p2) into a z-score. \n",
    "#That transformation appears below.\n",
    "Z_p1_p2 = (x - mu)/sigma\n",
    "\n",
    "print(\"Z_score(p1,p2) : \",Z_p1_p2)"
   ]
  },
  {
   "cell_type": "markdown",
   "metadata": {},
   "source": [
    "From Z table we find that the probability of a z-score being -0.5661 or less is 0.24.\n",
    "\n",
    "Therefore, the probability that the survey will show a greater percentage of Republican voters \n",
    "in the second state than in the first state is 0.24."
   ]
  },
  {
   "cell_type": "code",
   "execution_count": null,
   "metadata": {},
   "outputs": [],
   "source": []
  },
  {
   "cell_type": "markdown",
   "metadata": {},
   "source": [
    "Problem Statement 3: \n",
    "    \n",
    "You take the SAT and score 1100. The mean score for the SAT is 1026 and the standard  deviation is 209. How well did you score on the test compared to the average test taker? \n"
   ]
  },
  {
   "cell_type": "code",
   "execution_count": 11,
   "metadata": {},
   "outputs": [
    {
     "name": "stdout",
     "output_type": "stream",
     "text": [
      "Z Score :  0.35406698564593303\n"
     ]
    }
   ],
   "source": [
    "x = 1100 \n",
    "mu = 1026 \n",
    "std = 209 \n",
    "z = (x - mu)/std\n",
    "print(\"Z Score : \",z)"
   ]
  },
  {
   "cell_type": "markdown",
   "metadata": {},
   "source": [
    "The above calculation shows that my score is 0.35 standard deviations above the mean(average) test score"
   ]
  },
  {
   "cell_type": "code",
   "execution_count": null,
   "metadata": {},
   "outputs": [],
   "source": []
  }
 ],
 "metadata": {
  "kernelspec": {
   "display_name": "Python 3",
   "language": "python",
   "name": "python3"
  },
  "language_info": {
   "codemirror_mode": {
    "name": "ipython",
    "version": 3
   },
   "file_extension": ".py",
   "mimetype": "text/x-python",
   "name": "python",
   "nbconvert_exporter": "python",
   "pygments_lexer": "ipython3",
   "version": "3.8.3"
  }
 },
 "nbformat": 4,
 "nbformat_minor": 4
}
