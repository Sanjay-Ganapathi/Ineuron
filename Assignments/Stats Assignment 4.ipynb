{
 "cells": [
  {
   "cell_type": "markdown",
   "metadata": {},
   "source": [
    "## Stats Assignment 4"
   ]
  },
  {
   "cell_type": "markdown",
   "metadata": {},
   "source": [
    "Problem Statement 1:\n",
    "    \n",
    "Is gender independent of education level? A random sample of 395 people were\n",
    "surveyed and each person was asked to report the highest education level they\n",
    "obtained. The data that resulted from the survey is summarized in the following table:<br/>\n",
    "         High_School Bachelors Masters Ph.d.        Total <br/>\n",
    "Female    60    54       46       41            201 <br/>\n",
    "Male      40         44       53       57            194 <br/>\n",
    "Total     100        98       99       98            395 <br/>\n",
    "\n",
    "Question: Are gender and education level dependent at 5% level of significance? In\n",
    "other words, given the data collected above, is there a relationship between the\n",
    "gender of an individual and the level of education that they have obtained?"
   ]
  },
  {
   "cell_type": "markdown",
   "metadata": {},
   "source": [
    "H0 : There is no relationship between the gender of an individual and the level of education<br   />\n",
    "H1 : There is relationship between the gender of an individual and the level of education"
   ]
  },
  {
   "cell_type": "code",
   "execution_count": 3,
   "metadata": {},
   "outputs": [],
   "source": [
    "import scipy.stats as stats\n",
    "import numpy as np"
   ]
  },
  {
   "cell_type": "code",
   "execution_count": 9,
   "metadata": {},
   "outputs": [
    {
     "name": "stdout",
     "output_type": "stream",
     "text": [
      "Reject H0,There is a relationship between the categorical variables\n",
      "Value of chisquared statistic is 8.01 which is greater than critical value of 7.81\n",
      "\n",
      "\n",
      "Reject H0,There is a relationship between the categorical variables\n",
      "P value is 0.046 which is less than alpha value of 0.05\n"
     ]
    }
   ],
   "source": [
    "observed = np.array([[60,54,46,41],[40,44,53,57]])\n",
    "\n",
    "stat, p_value, dof, expected = stats.chi2_contingency(observed)\n",
    "\n",
    "alpha = 0.05\n",
    "\n",
    "critical_value= stats.chi2.ppf(q=1-alpha,df=dof)\n",
    "\n",
    "if stat>=critical_value:\n",
    "    print(\"Reject H0,There is a relationship between the categorical variables\")\n",
    "    print(f'Value of chisquared statistic is {stat:.2f} which is greater than critical value of {critical_value:.2f}')\n",
    "else:\n",
    "    print(\"Retain H0,There is no relationship between the categorical variables\")\n",
    "    print(f'Value of chisquared statistic is {stat:.2f} which is less than critical value of {critical_value:.2f}')\n",
    "    \n",
    "print('\\n')\n",
    "    \n",
    "if p_value<=alpha:\n",
    "    print(\"Reject H0,There is a relationship between the categorical variables\")\n",
    "    print(f'P value is {p_value:.3f} which is less than alpha value of {alpha:.2f}')\n",
    "else:\n",
    "    print(\"Retain H0,There is no relationship between the categorical variables\")\n",
    "    print(f'P value is {p_value:.3f} which is greater than alpha value of {alpha:.2f}')"
   ]
  },
  {
   "cell_type": "code",
   "execution_count": null,
   "metadata": {},
   "outputs": [],
   "source": []
  },
  {
   "cell_type": "markdown",
   "metadata": {},
   "source": [
    "Problem Statement 2:\n",
    "    \n",
    "Using the following data, perform a oneway analysis of variance using α=.05. Write\n",
    "up the results in APA format.<br/>\n",
    "[Group1: 51, 45, 33, 45, 67] <br/>\n",
    "[Group2: 23, 43, 23, 43, 45] <br/>\n",
    "[Group3: 56, 76, 74, 87, 56] <br/>"
   ]
  },
  {
   "cell_type": "code",
   "execution_count": 10,
   "metadata": {},
   "outputs": [],
   "source": [
    "import pandas as pd"
   ]
  },
  {
   "cell_type": "code",
   "execution_count": 16,
   "metadata": {},
   "outputs": [
    {
     "name": "stdout",
     "output_type": "stream",
     "text": [
      "Reject Null Hypothesis\n",
      "F value is : 9.747 and F critical is :3.885\n"
     ]
    }
   ],
   "source": [
    "df = pd.DataFrame({'Group1':[51, 45, 33, 45, 67],'Group2':[23, 43, 23, 43, 45],'Group3':[56, 76, 74, 87, 56]})\n",
    "\n",
    "alpha = 0.05\n",
    "f_critical = stats.f.ppf(1-alpha, 2 ,12)\n",
    "\n",
    "fvalue, pvalue = stats.f_oneway(df['Group1'], df['Group2'], df['Group3'])\n",
    "\n",
    "if fvalue > f_critical:\n",
    "    print('Reject Null Hypothesis')\n",
    "    print(f'F value is : {fvalue:.3f} and F critical is :{f_critical:.3f}')\n",
    "    \n",
    "else:\n",
    "    print('Accept Null Hypothesis')\n",
    "    print(f'F value is : {fvalue:.3f} and F critical is :{f_critical:.3f}')"
   ]
  },
  {
   "cell_type": "code",
   "execution_count": null,
   "metadata": {},
   "outputs": [],
   "source": []
  },
  {
   "cell_type": "markdown",
   "metadata": {},
   "source": [
    "Problem Statement 3:\n",
    "    \n",
    "Calculate F Test for given 10, 20, 30, 40, 50 and \n",
    "5,10,15, 20, 25.\n",
    "For 10, 20, 30, 40, 50:"
   ]
  },
  {
   "cell_type": "code",
   "execution_count": 18,
   "metadata": {},
   "outputs": [
    {
     "name": "stdout",
     "output_type": "stream",
     "text": [
      "F-Test value is : 4.0\n",
      "p-value from the F-distribution : 0.094\n"
     ]
    }
   ],
   "source": [
    "array1= np.array([10, 20, 30, 40, 50]) \n",
    "array2= np.array([5,10,15, 20, 25])\n",
    "\n",
    "fvalue, pvalue = stats.f_oneway(array1,array2)\n",
    "\n",
    "print(\"F-Test value is :\",round(fvalue))\n",
    "print(\"p-value from the F-distribution :\",round(pvalue,3))"
   ]
  },
  {
   "cell_type": "code",
   "execution_count": null,
   "metadata": {},
   "outputs": [],
   "source": []
  }
 ],
 "metadata": {
  "kernelspec": {
   "display_name": "Python 3",
   "language": "python",
   "name": "python3"
  },
  "language_info": {
   "codemirror_mode": {
    "name": "ipython",
    "version": 3
   },
   "file_extension": ".py",
   "mimetype": "text/x-python",
   "name": "python",
   "nbconvert_exporter": "python",
   "pygments_lexer": "ipython3",
   "version": "3.8.3"
  }
 },
 "nbformat": 4,
 "nbformat_minor": 4
}
