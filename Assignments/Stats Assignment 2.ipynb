{
 "cells": [
  {
   "cell_type": "markdown",
   "metadata": {},
   "source": [
    "# Stats Assignment 2"
   ]
  },
  {
   "cell_type": "markdown",
   "metadata": {},
   "source": [
    "Problem Statement 1: \n",
    "\n",
    "In each of the following situations, state whether it is a correctly stated hypothesis \n",
    "testing problem\n",
    "1. 𝐻0: 𝜇 = 25, 𝐻1: 𝜇 ≠ 25\n",
    "2. 𝐻0: 𝜎 > 10, 𝐻1: 𝜎 = 10\n",
    "3. 𝐻0: 𝑥 = 50, 𝐻1: 𝑥 ≠ 50\n",
    "4. 𝐻0: 𝑝 = 0.1, 𝐻1: 𝑝 = 0.5\n",
    "5. 𝐻0: 𝑠 = 30, 𝐻1: 𝑠 > 30"
   ]
  },
  {
   "cell_type": "markdown",
   "metadata": {},
   "source": [
    "Option 1,3,5 are correctly stated hypothesis problem"
   ]
  },
  {
   "cell_type": "code",
   "execution_count": null,
   "metadata": {},
   "outputs": [],
   "source": []
  },
  {
   "cell_type": "markdown",
   "metadata": {},
   "source": [
    "Problem Statement 2:\n",
    "    \n",
    "The college bookstore tells prospective students that the average cost of its \n",
    "textbooks is Rs. 52 with a standard deviation of Rs. 4.50. A group of smart statistics \n",
    "students thinks that the average cost is higher. To test the bookstore’s claim against \n",
    "their alternative, the students will select a random sample of size 100. Assume that \n",
    "the mean from their random sample is Rs. 52.80. Perform a hypothesis test at the \n",
    "5% level of significance and state your decision."
   ]
  },
  {
   "cell_type": "markdown",
   "metadata": {},
   "source": [
    "𝐻0: 𝜇 = 52<br/>\n",
    "𝐻1: 𝜇 ≠ 52"
   ]
  },
  {
   "cell_type": "code",
   "execution_count": 1,
   "metadata": {},
   "outputs": [],
   "source": [
    "import numpy as np"
   ]
  },
  {
   "cell_type": "code",
   "execution_count": 2,
   "metadata": {},
   "outputs": [
    {
     "name": "stdout",
     "output_type": "stream",
     "text": [
      "Null Hypothesis(H0) is accepted as value of Z Score lies between (-1.96, 1.96)\n",
      "Value of Z Score is: 1.78 \n"
     ]
    }
   ],
   "source": [
    "mu = 52\n",
    "std = 4.50\n",
    "n = 100\n",
    "x = 52.80\n",
    "alpha = 0.05\n",
    "\n",
    "z_value =  1.65 # 1 - (0.05) = 0.950 ; 0.950 value from Z test table we get : 1.6 + 0.05 = 1.65\n",
    "\n",
    "z_score = (x - mu)/(std/np.sqrt(n))\n",
    "\n",
    "if z_score > -z_value and z_score < z_value:\n",
    "    print(f'Null Hypothesis(H0) is accepted as value of Z Score lies between {-z_value,z_value}')\n",
    "    print(f'Value of Z Score is: {z_score:.2f} ')\n",
    "else :\n",
    "    print('Null Hypothesis(H0) is rejected')\n",
    "    print(f'Value of Z Score is: {z_score:.2f} ')"
   ]
  },
  {
   "cell_type": "markdown",
   "metadata": {},
   "source": [
    "Since the value of Z score lie between -1.96 to 1.96 we can accept the Null hypothesis and thus  average cost of textbooks is Rs. 52"
   ]
  },
  {
   "cell_type": "code",
   "execution_count": null,
   "metadata": {},
   "outputs": [],
   "source": []
  },
  {
   "cell_type": "markdown",
   "metadata": {},
   "source": [
    "Problem Statement 3: \n",
    "    \n",
    "A certain chemical pollutant in the Genesee River has been constant for several \n",
    "years with mean μ = 34 ppm (parts per million) and standard deviation σ = 8 ppm. A \n",
    "group of factory representatives whose companies discharge liquids into the river is \n",
    "now claiming that they have lowered the average with improved filtration devices. A \n",
    "group of environmentalists will test to see if this is true at the 1% level of \n",
    "significance. Assume that their sample of size 50 gives a mean of 32.5 ppm. \n",
    "Perform a hypothesis test at the 1% level of significance and state your decision.\n"
   ]
  },
  {
   "cell_type": "markdown",
   "metadata": {},
   "source": [
    "\n",
    "𝐻0: 𝜇 = 34<br/>\n",
    "𝐻1: 𝜇 ≠ 34\n"
   ]
  },
  {
   "cell_type": "code",
   "execution_count": 3,
   "metadata": {},
   "outputs": [
    {
     "name": "stdout",
     "output_type": "stream",
     "text": [
      "Null Hypothesis(H0) is accepted as value of Z Score lies between (-2.58, 2.58)\n",
      "Value of Z Score is: -1.33 \n"
     ]
    }
   ],
   "source": [
    "mu = 34\n",
    "std = 8\n",
    "n = 50\n",
    "x = 32.5\n",
    "alpha = 0.01\n",
    "\n",
    "z_value =  2.58 # 1 - (0.01/2) = 0.995 ; 0.995 value from Z test table we get : 2.5 + 0.08 = 2.58\n",
    "\n",
    "z_score = (x - mu)/(std/np.sqrt(n))\n",
    "\n",
    "if z_score > -z_value and z_score < z_value:\n",
    "    print(f'Null Hypothesis(H0) is accepted as value of Z Score lies between {-z_value,z_value}')\n",
    "    print(f'Value of Z Score is: {z_score:.2f} ')\n",
    "else :\n",
    "    print('Null Hypothesis(H0) is rejected')\n",
    "    print(f'Value of Z Score is: {z_score:.2f} ')"
   ]
  },
  {
   "cell_type": "markdown",
   "metadata": {},
   "source": [
    "Since the value of Z score lie between -2.58 to 2.58 we can accept the Null hypothesis and thus their claim of lowering the pollutant level is true"
   ]
  },
  {
   "cell_type": "code",
   "execution_count": null,
   "metadata": {},
   "outputs": [],
   "source": []
  },
  {
   "cell_type": "markdown",
   "metadata": {},
   "source": [
    "Problem Statement 4: \n",
    "\n",
    "Based on population figures and other general information on the U.S. population, \n",
    "suppose it has been estimated that, on average, a family of four in the U.S. spends \n",
    "about $1135 annually on dental expenditures. Suppose further that a regional dental \n",
    "association wants to test to determine if this figure is accurate for their area of \n",
    "country. To test this, 22 families of 4 are randomly selected from the population in \n",
    "that area of the country and a log is kept of the family’s dental expenditure for one \n",
    "year. The resulting data are given below. Assuming, that dental expenditure is \n",
    "normally distributed in the population, use the data and an alpha of 0.5 to test the \n",
    "dental association’s hypothesis.\n",
    "\n",
    "1008, 812, 1117, 1323, 1308, 1415, 831, 1021, 1287, 851, 930, 730, 699,\n",
    "872, 913, 944, 954, 987, 1695, 995, 1003, 994"
   ]
  },
  {
   "cell_type": "markdown",
   "metadata": {},
   "source": [
    "\n",
    "𝐻0: 𝜇 = 1135<br/>\n",
    "𝐻1: 𝜇 ≠ 1135\n"
   ]
  },
  {
   "cell_type": "code",
   "execution_count": 4,
   "metadata": {},
   "outputs": [],
   "source": [
    "from scipy.stats import ttest_1samp"
   ]
  },
  {
   "cell_type": "code",
   "execution_count": 5,
   "metadata": {},
   "outputs": [
    {
     "name": "stdout",
     "output_type": "stream",
     "text": [
      "Null Hypothesis(H0) is accepted because\n",
      "P value is 0.06 which is greater than alpha value of 0.05\n"
     ]
    }
   ],
   "source": [
    "data = np.array([1008, 812, 1117, 1323, 1308, 1415, 831, 1021, 1287, 851, 930, 730, 699, 872, 913, 944, 954, 987, 1695, 995, 1003, 994])\n",
    "\n",
    "mean_population = 1135\n",
    "\n",
    "\n",
    "ttest,p_value = ttest_1samp(a = data,popmean = mean_population)\n",
    "\n",
    "if p_value < 0.05:    # alpha value is 0.05 or 5%\n",
    "    print(\"Null Hypothesis(H0) is rejected because\")\n",
    "    print(f'P value is {p_value:.2f} which is less than alpha value of 0.05')\n",
    "else:\n",
    "    print(\"Null Hypothesis(H0) is accepted because\")\n",
    "    print(f'P value is {p_value:.2f} which is greater than alpha value of 0.05')"
   ]
  },
  {
   "cell_type": "code",
   "execution_count": null,
   "metadata": {},
   "outputs": [],
   "source": []
  },
  {
   "cell_type": "markdown",
   "metadata": {},
   "source": [
    "Problem Statement 5:\n",
    "\n",
    "In a report prepared by the Economic Research Department of a major bank the Department manager maintains that the average annual family income on Metropolis is $48,432 "
   ]
  },
  {
   "cell_type": "markdown",
   "metadata": {},
   "source": [
    "What do you conclude about the validity of the report if a random sample of 400 families shows and average income of $48,574 with a standard deviation of 2000\n"
   ]
  },
  {
   "cell_type": "markdown",
   "metadata": {},
   "source": [
    "\n",
    "𝐻0: 𝜇 = 48432<br/>\n",
    "𝐻1: 𝜇 ≠ 48432\n"
   ]
  },
  {
   "cell_type": "code",
   "execution_count": 6,
   "metadata": {},
   "outputs": [
    {
     "name": "stdout",
     "output_type": "stream",
     "text": [
      "Null Hypothesis(H0) is accepted because\n",
      "P value is 0.19 which is greater than alpha value of 0.05\n"
     ]
    }
   ],
   "source": [
    "mean_population = 48432\n",
    "mean_sample = 48574\n",
    "std_sample = 2000\n",
    "\n",
    "np.random.seed(11)\n",
    "data = np.random.normal(loc = mean_sample,scale = std_sample,size = 400)\n",
    "ttest,p_value = ttest_1samp(a = data,popmean = mean_population)\n",
    "\n",
    "if p_value < 0.05:    # alpha value is 0.05 or 5%\n",
    "    print(\"Null Hypothesis(H0) is rejected because\")\n",
    "    print(f'P value is {p_value:.2f} which is less than alpha value of 0.05')\n",
    "else:\n",
    "    print(\"Null Hypothesis(H0) is accepted because\")\n",
    "    print(f'P value is {p_value:.2f} which is greater than alpha value of 0.05')"
   ]
  },
  {
   "cell_type": "code",
   "execution_count": null,
   "metadata": {},
   "outputs": [],
   "source": []
  },
  {
   "cell_type": "markdown",
   "metadata": {},
   "source": [
    "Problem Statement 6:\n",
    "\n",
    "Suppose that in past years the average price per square foot for warehouses in the\n",
    "United States has been 32.28. A national real estate investor wants to determine\n",
    "whether that figure has changed now. The investor hires a researcher who randomly\n",
    "samples 19 warehouses that are for sale across the United States and finds that the\n",
    "mean price per square foot is 31.67, with a standard deviation of $1.29. assume\n",
    "that the prices of warehouse footage are normally distributed in population. If the\n",
    "researcher uses a 5% level of significance, what statistical conclusion can be\n",
    "reached? What are the hypotheses?"
   ]
  },
  {
   "cell_type": "markdown",
   "metadata": {},
   "source": [
    "\n",
    "𝐻0: 𝜇 = 32.28<br/>\n",
    "𝐻1: 𝜇 ≠ 31.67"
   ]
  },
  {
   "cell_type": "code",
   "execution_count": 7,
   "metadata": {},
   "outputs": [
    {
     "name": "stdout",
     "output_type": "stream",
     "text": [
      "Null Hypothesis(H0) is rejected because\n",
      "P value is 0.02 which is less than alpha value of 0.05\n"
     ]
    }
   ],
   "source": [
    "mean_population = 32.28\n",
    "mean_sample = 31.67\n",
    "std_sample = 1.29\n",
    "\n",
    "np.random.seed(42)\n",
    "data = np.random.normal(loc = mean_sample,scale = std_sample,size = 19)\n",
    "ttest,p_value = ttest_1samp(a = data,popmean = mean_population)\n",
    "\n",
    "if p_value < 0.05:    # alpha value is 0.05 or 5%\n",
    "    print(\"Null Hypothesis(H0) is rejected because\")\n",
    "    print(f'P value is {p_value:.2f} which is less than alpha value of 0.05')\n",
    "else:\n",
    "    print(\"Null Hypothesis(H0) is accepted because\")\n",
    "    print(f'P value is {p_value:.2f} which is greater than alpha value of 0.05')"
   ]
  },
  {
   "cell_type": "code",
   "execution_count": null,
   "metadata": {},
   "outputs": [],
   "source": []
  },
  {
   "cell_type": "markdown",
   "metadata": {},
   "source": [
    "Problem Statement 8:\n",
    "\n",
    "Find the t-score for a sample size of 16 taken from a population with mean 10 when\n",
    "the sample mean is 12 and the sample standard deviation is 1.5"
   ]
  },
  {
   "cell_type": "code",
   "execution_count": 8,
   "metadata": {},
   "outputs": [],
   "source": [
    "def t_score(sample_mean,population_mean,std,n):\n",
    "    return (sample_mean-population_mean)/(std/np.sqrt(n))"
   ]
  },
  {
   "cell_type": "code",
   "execution_count": 9,
   "metadata": {},
   "outputs": [
    {
     "name": "stdout",
     "output_type": "stream",
     "text": [
      "T score of the given data is -1.89\n"
     ]
    }
   ],
   "source": [
    "mean_population = 32.28\n",
    "mean_sample = 31.67\n",
    "std_sample = 1.29\n",
    "n = 16\n",
    "\n",
    "print(f'T score of the given data is {t_score(mean_sample,mean_population,std_sample,n) :.2f}')"
   ]
  },
  {
   "cell_type": "code",
   "execution_count": null,
   "metadata": {},
   "outputs": [],
   "source": []
  },
  {
   "cell_type": "markdown",
   "metadata": {},
   "source": [
    "Problem Statement 9:\n",
    "\n",
    "Find the t-score below which we can expect 99% of sample means will fall if samples\n",
    "of size 16 are taken from a normally distributed population."
   ]
  },
  {
   "cell_type": "markdown",
   "metadata": {},
   "source": [
    "1 − 𝛼 = 0.99 <br/>𝛼 = 0.01<br/> 𝑑𝑓 = 𝑛 − 1 = 16 - 1= 15<br/> 𝑡0.99 = −𝑡0.01 <br/> 𝑡0.99 = −𝑡0.01 = −2.602"
   ]
  },
  {
   "cell_type": "code",
   "execution_count": null,
   "metadata": {},
   "outputs": [],
   "source": []
  },
  {
   "cell_type": "markdown",
   "metadata": {},
   "source": [
    "Problem Statement 10:\n",
    "    \n",
    "If a random sample of size 25 drawn from a normal population gives a mean of 60\n",
    "and a standard deviation of 4, find the range of t-scores where we can expect to find\n",
    "the middle 95% of all sample means"
   ]
  },
  {
   "cell_type": "markdown",
   "metadata": {},
   "source": [
    "μ = 60\n",
    "σ = 4\n",
    "n = 25\n",
    "dof = n-1 = 24\n",
    "𝛼 = 0.05\n",
    "\n",
    "t = 2.064 (from t table)\n",
    "\n",
    "Thus value must be between -2.064 to 2.064 where we can expect to find the 95% of all sample means"
   ]
  },
  {
   "cell_type": "code",
   "execution_count": null,
   "metadata": {},
   "outputs": [],
   "source": []
  },
  {
   "cell_type": "markdown",
   "metadata": {},
   "source": [
    "Problem Statement 11:\n",
    "    \n",
    "Two-tailed test for difference between two population means\n",
    "Is there evidence to conclude that the number of people travelling from Bangalore to\n",
    "Chennai is different from the number of people travelling from Bangalore to Hosur in\n",
    "a week, given the following:<br/>\n",
    "Population 1: Bangalore to Chennai<br/> n1 = 1200<br/>\n",
    "x1 = 452<br/>\n",
    "s1 = 212<br/>\n",
    "\n",
    "Population 2: Bangalore to Hosur<br/> n2 = 800<br/>\n",
    "x2 = 523<br/>\n",
    "s2 = 185<br/>\n"
   ]
  },
  {
   "cell_type": "code",
   "execution_count": 10,
   "metadata": {},
   "outputs": [],
   "source": [
    "from scipy.stats import ttest_ind"
   ]
  },
  {
   "cell_type": "code",
   "execution_count": 11,
   "metadata": {},
   "outputs": [
    {
     "name": "stdout",
     "output_type": "stream",
     "text": [
      "Null Hypothesis(H0) is rejected because\n",
      "P value is 0.00 which is less than alpha value of 0.05\n"
     ]
    }
   ],
   "source": [
    "bgch_n = 1200\n",
    "bgch_mean = 452\n",
    "bgch_std = 212\n",
    "\n",
    "bghs_n = 800\n",
    "bghs_mean = 523\n",
    "bghs_std = 185\n",
    "\n",
    "\n",
    "bgch = np.random.normal(loc = bgch_mean,scale = bgch_std,size = bgch_n)\n",
    "bghs = np.random.normal(loc = bghs_mean,scale = bghs_std,size = bghs_n)\n",
    "\n",
    "_,p_value=ttest_ind(a=bgch,b=bghs,equal_var=False)\n",
    "\n",
    "if p_value < 0.05:    # alpha value is 0.05 or 5%\n",
    "    print(\"Null Hypothesis(H0) is rejected because\")\n",
    "    print(f'P value is {p_value:.2f} which is less than alpha value of 0.05')\n",
    "else:\n",
    "    print(\"Null Hypothesis(H0) is accepted because\")\n",
    "    print(f'P value is {p_value:.2f} which is greater than alpha value of 0.05')"
   ]
  },
  {
   "cell_type": "code",
   "execution_count": null,
   "metadata": {},
   "outputs": [],
   "source": []
  },
  {
   "cell_type": "markdown",
   "metadata": {},
   "source": [
    "Problem Statement 12:\n",
    "\n",
    "Is there evidence to conclude that the number of people preferring Duracell battery is\n",
    "different from the number of people preferring Energizer battery, given the following:\n",
    "Population 1: Duracell<br/>\n",
    "n1 = 100<br/>\n",
    "x1 = 308<br/>\n",
    "s1 = 84<br/>\n",
    "Population 2: Energizer<br/>\n",
    "n2 = 100<br/>\n",
    "x2 = 254<br/>\n",
    "s2 = 67<br/>\n"
   ]
  },
  {
   "cell_type": "code",
   "execution_count": 12,
   "metadata": {},
   "outputs": [
    {
     "name": "stdout",
     "output_type": "stream",
     "text": [
      "Null Hypothesis(H0) is rejected because\n",
      "P value is 0.00 which is less than alpha value of 0.05\n"
     ]
    }
   ],
   "source": [
    "n1 = 100\n",
    "x1 = 308\n",
    "s1 = 84\n",
    "\n",
    "n2 = 100\n",
    "x2 = 254\n",
    "s2 = 67\n",
    "\n",
    "dur = np.random.normal(loc = x1,scale = s1,size = n1)\n",
    "ener = np.random.normal(loc = x2,scale = s2,size = n2)\n",
    "\n",
    "_,p_value=ttest_ind(a=dur,b=ener,equal_var=False)\n",
    "\n",
    "if p_value < 0.05:    # alpha value is 0.05 or 5%\n",
    "\n",
    "    print(\"Null Hypothesis(H0) is rejected because\")\n",
    "    print(f'P value is {p_value:.2f} which is less than alpha value of 0.05')\n",
    "else:\n",
    "    print(\"Null Hypothesis(H0) is accepted because\")\n",
    "    print(f'P value is {p_value:.2f} which is greater than alpha value of 0.05')"
   ]
  },
  {
   "cell_type": "code",
   "execution_count": null,
   "metadata": {},
   "outputs": [],
   "source": []
  },
  {
   "cell_type": "markdown",
   "metadata": {},
   "source": [
    "Problem Statement 13:\n",
    "\n",
    "Pooled estimate of the population variance\n",
    "Does the data provide sufficient evidence to conclude that average percentage\n",
    "increase in the price of sugar differs when it is sold at two different prices?<br/>\n",
    "Population 1: <br/>\n",
    "Price of sugar = Rs. 27.50 <br/>\n",
    "n1 = 14<br/>\n",
    "x1 = 0.317%<br/>\n",
    "s1 = 0.12%<br/>\n",
    "\n",
    "Population 2: <br/>\n",
    "Price of sugar = Rs. 20.00 <br/>\n",
    "n2 = 9<br/>\n",
    "x2 = 0.21%<br/>\n",
    "s2 = 0.11%<br/>"
   ]
  },
  {
   "cell_type": "code",
   "execution_count": 13,
   "metadata": {},
   "outputs": [
    {
     "name": "stdout",
     "output_type": "stream",
     "text": [
      "Null Hypothesis(H0) is rejected because\n",
      "P value is 0.01 which is less than alpha value of 0.05\n"
     ]
    }
   ],
   "source": [
    "n1 = 14\n",
    "x1 = 0.317\n",
    "s1 = 0.12\n",
    "\n",
    "n2 = 9\n",
    "x2 = 0.21\n",
    "s2 = 0.11\n",
    "\n",
    "np.random.seed(17)\n",
    "p1 = np.random.normal(loc = x1,scale = s1,size = n1)\n",
    "p2 = np.random.normal(loc = x2,scale = s2,size = n2)\n",
    "\n",
    "_,p_value=ttest_ind(a=p1,b=p2,equal_var=False)\n",
    "\n",
    "if p_value < 0.05:    # alpha value is 0.05 or 5%\n",
    "\n",
    "    print(\"Null Hypothesis(H0) is rejected because\")\n",
    "    print(f'P value is {p_value:.2f} which is less than alpha value of 0.05')\n",
    "else:\n",
    "    print(\"Null Hypothesis(H0) is accepted because\")\n",
    "    print(f'P value is {p_value:.2f} which is greater than alpha value of 0.05')"
   ]
  },
  {
   "cell_type": "code",
   "execution_count": null,
   "metadata": {},
   "outputs": [],
   "source": []
  },
  {
   "cell_type": "markdown",
   "metadata": {},
   "source": [
    "Problem Statement 14:\n",
    "    \n",
    "The manufacturers of compact disk players want to test whether a small price\n",
    "reduction is enough to increase sales of their product. Is there evidence that the\n",
    "small price reduction is enough to increase sales of compact disk players?<br/>\n",
    "Population 1:<br/>\n",
    "Before reduction<br/>\n",
    "n1 = 15<br/>\n",
    "x1 = Rs. 6598 <br/>\n",
    "s1 = Rs. 844<br/>\n",
    "\n",
    "Population 2: <br/>\n",
    "After reduction<br/>\n",
    "n2 = 12<br/>\n",
    "x2 = RS. 6870<br/>\n",
    "s2 = Rs. 669\n"
   ]
  },
  {
   "cell_type": "code",
   "execution_count": 14,
   "metadata": {},
   "outputs": [
    {
     "name": "stdout",
     "output_type": "stream",
     "text": [
      "Null Hypothesis(H0) is accepted because\n",
      "P value is 0.62 which is greater than alpha value of 0.05\n"
     ]
    }
   ],
   "source": [
    "n1 = 15\n",
    "x1 = 6598\n",
    "s1 = 844\n",
    "\n",
    "n2 = 12\n",
    "x2 = 6870\n",
    "s2 = 669\n",
    "\n",
    "np.random.seed(18)\n",
    "br = np.random.normal(loc = x1,scale = s1,size = n1)\n",
    "ar = np.random.normal(loc = x2,scale = s2,size = n2)\n",
    "\n",
    "_,p_value=ttest_ind(a=br,b=ar,equal_var=False)\n",
    "\n",
    "if p_value < 0.05:    # alpha value is 0.05 or 5%\n",
    "\n",
    "    print(\"Null Hypothesis(H0) is rejected because\")\n",
    "    print(f'P value is {p_value:.2f} which is less than alpha value of 0.05')\n",
    "else:\n",
    "    print(\"Null Hypothesis(H0) is accepted because\")\n",
    "    print(f'P value is {p_value:.2f} which is greater than alpha value of 0.05')"
   ]
  },
  {
   "cell_type": "code",
   "execution_count": null,
   "metadata": {},
   "outputs": [],
   "source": []
  },
  {
   "cell_type": "markdown",
   "metadata": {},
   "source": [
    "Problem Statement 15:\n",
    "\n",
    "Comparisons of two population proportions when the hypothesized difference is zero\n",
    "Carry out a two-tailed test of the equality of banks’ share of the car loan market in\n",
    "1980 and 1995.<br/>\n",
    "Population 1: 1980 <br/>\n",
    "n1 = 1000<br/>\n",
    "x1 = 53<br/>\n",
    "𝑝1 = 0.53<br/>\n",
    "\n",
    "Population 2: 1985<br/>\n",
    "n2 = 100<br/>\n",
    "x2 = 43<br/>\n",
    "𝑝2= 0.53<br/>\n"
   ]
  },
  {
   "cell_type": "markdown",
   "metadata": {},
   "source": [
    "Ho: P1 = P2<br/>\n",
    "H1: P1 ≠ P2"
   ]
  },
  {
   "cell_type": "code",
   "execution_count": 15,
   "metadata": {},
   "outputs": [
    {
     "data": {
      "text/plain": [
       "0.0"
      ]
     },
     "execution_count": 15,
     "metadata": {},
     "output_type": "execute_result"
    }
   ],
   "source": [
    "n1 = 1000\n",
    "x1 = 53\n",
    "p1 = 0.53\n",
    "\n",
    "n2 = 100\n",
    "x2 = 43\n",
    "p2= 0.53\n",
    "\n",
    "p = (p1 * n1 + p2 * n2) / (n1 + n2) #Pooled sample proportion\n",
    "se = np.sqrt( p * ( 1 - p ) * ( (1/n1) + (1/n2) ) ) #Standard error\n",
    "\n",
    "z = (p1 - p2) / se\n",
    "\n",
    "z"
   ]
  },
  {
   "cell_type": "code",
   "execution_count": 16,
   "metadata": {},
   "outputs": [
    {
     "name": "stdout",
     "output_type": "stream",
     "text": [
      "P value comes 1.Hence the null hypothesis is accepted\n"
     ]
    }
   ],
   "source": [
    "print('P value comes 1.Hence the null hypothesis is accepted')"
   ]
  },
  {
   "cell_type": "code",
   "execution_count": null,
   "metadata": {},
   "outputs": [],
   "source": []
  },
  {
   "cell_type": "markdown",
   "metadata": {},
   "source": [
    "Carry out a one-tailed test to determine whether the population proportion of \n",
    "traveler’s check buyers who buy at least $2500 in checks when sweepstakes prizes \n",
    "are offered as at least 10% higher than the proportion of such buyers when no \n",
    "sweepstakes are on.\n",
    "\n",
    "Population 1: With sweepstakes<br/>\n",
    "n1 = 300<br/>\n",
    "x1 = 120<br/>\n",
    "𝑝1 = 0.40<br/>\n",
    "\n",
    "Population 2: No sweepstakes <br/>\n",
    "n2 = 700<br/>\n",
    "x2 = 140<br/>\n",
    "𝑝2= 0.20<br/>"
   ]
  },
  {
   "cell_type": "markdown",
   "metadata": {},
   "source": [
    "Ho: p1-p2 <= 0.10<br/>\n",
    "H1: p1-p2 >  0.10"
   ]
  },
  {
   "cell_type": "code",
   "execution_count": 17,
   "metadata": {},
   "outputs": [],
   "source": [
    "n1 = 300\n",
    "x1 = 120\n",
    "p1 = 0.40\n",
    "\n",
    "n2 = 700\n",
    "x2 = 140\n",
    "p2= 0.20\n",
    "\n",
    "d = 0.10\n",
    "\n",
    "se = np.sqrt((p1*(1-p1))/n1 + (p2*(1-p2))/n2)\n",
    "\n",
    "z = (p1-p2 -d)/se"
   ]
  },
  {
   "cell_type": "code",
   "execution_count": 18,
   "metadata": {},
   "outputs": [
    {
     "data": {
      "text/plain": [
       "3.1180478223116177"
      ]
     },
     "execution_count": 18,
     "metadata": {},
     "output_type": "execute_result"
    }
   ],
   "source": [
    "z"
   ]
  },
  {
   "cell_type": "code",
   "execution_count": 19,
   "metadata": {},
   "outputs": [
    {
     "name": "stdout",
     "output_type": "stream",
     "text": [
      "P value comes 0.001.Hence the null hypothesis is rejected\n"
     ]
    }
   ],
   "source": [
    "print('P value comes 0.001.Hence the null hypothesis is rejected')"
   ]
  },
  {
   "cell_type": "code",
   "execution_count": null,
   "metadata": {},
   "outputs": [],
   "source": []
  },
  {
   "cell_type": "markdown",
   "metadata": {},
   "source": [
    "Problem Statement 17: \n",
    "\n",
    "A die is thrown 132 times with the following results: <br/>\n",
    "Number turned up: 1, 2, 3, 4, 5, 6 <br/>\n",
    "Frequency: 16, 20, 25, 14, 29, 28<br/>\n",
    "Is the die unbiased? Consider the degrees of freedom as 𝑝 − 1.<br/>"
   ]
  },
  {
   "cell_type": "markdown",
   "metadata": {},
   "source": [
    "The null hypothesis H0 : The die is unbiased.\n",
    "\n",
    "Alternative hypothesis H1 : The die is biased.\n"
   ]
  },
  {
   "cell_type": "code",
   "execution_count": 38,
   "metadata": {},
   "outputs": [
    {
     "name": "stdout",
     "output_type": "stream",
     "text": [
      "Null Hypothesis(H0) is accepted because\n",
      "P value is 0.11 which is greater than alpha value of 0.05\n"
     ]
    }
   ],
   "source": [
    "import scipy.stats as stats\n",
    "\n",
    "observed = np.array([16, 20, 25, 14, 29, 28])\n",
    "\n",
    "res = stats.chisquare(f_obs=observed)\n",
    "\n",
    "p_val = res[1]\n",
    "\n",
    "if p_val < 0.05:    # alpha value is 0.05 or 5%\n",
    "\n",
    "    print(\"Null Hypothesis(H0) is rejected because\")\n",
    "    print(f'P value is {p_val:.2f} which is less than alpha value of 0.05')\n",
    "else:\n",
    "    print(\"Null Hypothesis(H0) is accepted because\")\n",
    "    print(f'P value is {p_val:.2f} which is greater than alpha value of 0.05')"
   ]
  },
  {
   "cell_type": "markdown",
   "metadata": {},
   "source": [
    "Problem Statement 18: \n",
    "\n",
    "In a certain town, there are about one million eligible voters. A simple random \n",
    "sample of 10,000 eligible voters was chosen to study the relationship between \n",
    "gender and participation in the last election. The results are summarized in the \n",
    "following 2X2 (read two by two) contingency table:\n",
    "\n",
    "We would want to check whether being a man or a woman (columns) is independent of \n",
    "having voted in the last election (rows). In other words, is “gender and voting independent”?\n"
   ]
  },
  {
   "cell_type": "markdown",
   "metadata": {},
   "source": [
    "H0 : Gender is independent of Voting <br/>\n",
    "H1 : Gender and Voting are dependent"
   ]
  },
  {
   "cell_type": "code",
   "execution_count": 37,
   "metadata": {},
   "outputs": [
    {
     "name": "stdout",
     "output_type": "stream",
     "text": [
      "Reject H0,There is a relationship between 2 categorical variables\n",
      "Value of chisquared statistic is 6.55 which is greater than critical value of 3.84\n",
      "\n",
      "\n",
      "Reject H0,There is a relationship between 2 categorical variables\n",
      "P value is 0.01 which is less than alpha value of 0.05\n"
     ]
    }
   ],
   "source": [
    "observed = np.array([[2792,3591],[1486,2131]])\n",
    "\n",
    "stat, p_value, dof, expected = stats.chi2_contingency(observed)\n",
    "\n",
    "alpha = 0.05\n",
    "\n",
    "critical_value= stats.chi2.ppf(q=1-alpha,df=dof)\n",
    "\n",
    "if stat>=critical_value:\n",
    "    print(\"Reject H0,There is a relationship between 2 categorical variables\")\n",
    "    print(f'Value of chisquared statistic is {stat:.2f} which is greater than critical value of {critical_value:.2f}')\n",
    "else:\n",
    "    print(\"Retain H0,There is no relationship between 2 categorical variables\")\n",
    "    print(f'Value of chisquared statistic is {stat:.2f} which is less than critical value of {critical_value:.2f}')\n",
    "    \n",
    "print('\\n')\n",
    "    \n",
    "if p_value<=alpha:\n",
    "    print(\"Reject H0,There is a relationship between 2 categorical variables\")\n",
    "    print(f'P value is {p_value:.2f} which is less than alpha value of {alpha:.2f}')\n",
    "else:\n",
    "    print(\"Retain H0,There is no relationship between 2 categorical variables\")\n",
    "    print(f'P value is {p_value:.2f} which is greater than alpha value of {alpha:.2f}')"
   ]
  },
  {
   "cell_type": "code",
   "execution_count": null,
   "metadata": {},
   "outputs": [],
   "source": []
  },
  {
   "cell_type": "markdown",
   "metadata": {},
   "source": [
    "Problem Statement 19:\n",
    "\n",
    "A sample of 100 voters are asked which of four candidates they would vote for in an\n",
    "election. The number supporting each candidate is given below:\n",
    "Do the data suggest that all candidates are equally popular?<br/> [Chi-Square = 14.96,\n",
    "with 3 df, 𝑝 < 0.05 ]"
   ]
  },
  {
   "cell_type": "markdown",
   "metadata": {},
   "source": [
    "H0 :There is no preference for any of the candidates <br/>\n",
    "H1 :There is preference for any of the candidates"
   ]
  },
  {
   "cell_type": "code",
   "execution_count": 44,
   "metadata": {},
   "outputs": [
    {
     "name": "stdout",
     "output_type": "stream",
     "text": [
      "Null Hypothesis(H0) is rejected because\n",
      "P value is 0.002 which is less than alpha value of 0.05\n"
     ]
    }
   ],
   "source": [
    "observed = np.array([41,19,24,16])\n",
    "\n",
    "res = stats.chisquare(f_obs=observed)\n",
    "\n",
    "p_val = res[1]\n",
    "\n",
    "if p_val < 0.05:    # alpha value is 0.05 or 5%\n",
    "\n",
    "    print(\"Null Hypothesis(H0) is rejected because\")\n",
    "    print(f'P value is {p_val:.3f} which is less than alpha value of 0.05')\n",
    "else:\n",
    "    print(\"Null Hypothesis(H0) is accepted because\")\n",
    "    print(f'P value is {p_val:.3f} which is greater than alpha value of 0.05')"
   ]
  },
  {
   "cell_type": "code",
   "execution_count": null,
   "metadata": {},
   "outputs": [],
   "source": []
  },
  {
   "cell_type": "markdown",
   "metadata": {},
   "source": [
    "Problem Statement 20:\n",
    "\n",
    "Children of three ages are asked to indicate their preference for three photographs of\n",
    "adults. Do the data suggest that there is a significant relationship between age and\n",
    "photograph preference?<br/> [Chi-Square = 29.6, with 4\n",
    "df: 𝑝 < 0.05]."
   ]
  },
  {
   "cell_type": "markdown",
   "metadata": {},
   "source": [
    "H0 :There is no preference between age and photographs<br/>\n",
    "H1 :There is preference between age and photographs"
   ]
  },
  {
   "cell_type": "code",
   "execution_count": 46,
   "metadata": {},
   "outputs": [
    {
     "name": "stdout",
     "output_type": "stream",
     "text": [
      "Reject H0,There is a relationship between the categorical variables\n",
      "Value of chisquared statistic is 29.60 which is greater than critical value of 9.49\n",
      "\n",
      "\n",
      "Reject H0,There is a relationship between the categorical variables\n",
      "P value is 0.00 which is less than alpha value of 0.05\n"
     ]
    }
   ],
   "source": [
    "observed = np.array([[18,22,20],[2,28,40],[20,10,40]])\n",
    "\n",
    "stat, p_value, dof, expected = stats.chi2_contingency(observed)\n",
    "\n",
    "alpha = 0.05\n",
    "\n",
    "critical_value= stats.chi2.ppf(q=1-alpha,df=dof)\n",
    "\n",
    "if stat>=critical_value:\n",
    "    print(\"Reject H0,There is a relationship between the categorical variables\")\n",
    "    print(f'Value of chisquared statistic is {stat:.2f} which is greater than critical value of {critical_value:.2f}')\n",
    "else:\n",
    "    print(\"Retain H0,There is no relationship between the categorical variables\")\n",
    "    print(f'Value of chisquared statistic is {stat:.2f} which is less than critical value of {critical_value:.2f}')\n",
    "    \n",
    "print('\\n')\n",
    "    \n",
    "if p_value<=alpha:\n",
    "    print(\"Reject H0,There is a relationship between the categorical variables\")\n",
    "    print(f'P value is {p_value:.2f} which is less than alpha value of {alpha:.2f}')\n",
    "else:\n",
    "    print(\"Retain H0,There is no relationship between the categorical variables\")\n",
    "    print(f'P value is {p_value:.2f} which is greater than alpha value of {alpha:.2f}')"
   ]
  },
  {
   "cell_type": "code",
   "execution_count": null,
   "metadata": {},
   "outputs": [],
   "source": []
  },
  {
   "cell_type": "markdown",
   "metadata": {},
   "source": [
    "Problem Statement 21: \n",
    "\n",
    "A study of conformity using the Asch paradigm involved two conditions: one where\n",
    "one confederate supported the true judgement and another where no confederate\n",
    "gave the correct response.\n",
    "\n",
    "Is there a significant difference between the \"support\" and \"no support\" conditions in the\n",
    "frequency with which individuals are likely to conform?<br/>\n",
    "[Chi-Square = 19.87, with 1 df:\n",
    "𝑝 < 0.05]."
   ]
  },
  {
   "cell_type": "markdown",
   "metadata": {},
   "source": [
    "H0 : There is a no significant difference between the \"support\" and \"no support\" conditions <br/>\n",
    "H1 : There is a significant difference between the \"support\" and \"no support\" conditions\n",
    "\n"
   ]
  },
  {
   "cell_type": "code",
   "execution_count": 53,
   "metadata": {},
   "outputs": [
    {
     "name": "stdout",
     "output_type": "stream",
     "text": [
      "Reject H0,There is a relationship between the categorical variables\n",
      "Value of chisquared statistic is 18.10 which is greater than critical value of 3.84\n",
      "\n",
      "\n",
      "Reject H0,There is a relationship between the categorical variables\n",
      "P value is 0.000 which is less than alpha value of 0.05\n"
     ]
    }
   ],
   "source": [
    "observed = np.array([[18,40],[32,10]])\n",
    "\n",
    "stat, p_value, dof, expected = stats.chi2_contingency(observed)\n",
    "\n",
    "alpha = 0.05\n",
    "\n",
    "critical_value= stats.chi2.ppf(q=1-alpha,df=dof)\n",
    "\n",
    "if stat>=critical_value:\n",
    "    print(\"Reject H0,There is a relationship between the categorical variables\")\n",
    "    print(f'Value of chisquared statistic is {stat:.2f} which is greater than critical value of {critical_value:.2f}')\n",
    "else:\n",
    "    print(\"Retain H0,There is no relationship between the categorical variables\")\n",
    "    print(f'Value of chisquared statistic is {stat:.2f} which is less than critical value of {critical_value:.2f}')\n",
    "    \n",
    "print('\\n')\n",
    "    \n",
    "if p_value<=alpha:\n",
    "    print(\"Reject H0,There is a relationship between the categorical variables\")\n",
    "    print(f'P value is {p_value:.3f} which is less than alpha value of {alpha:.2f}')\n",
    "else:\n",
    "    print(\"Retain H0,There is no relationship between the categorical variables\")\n",
    "    print(f'P value is {p_value:.3f} which is greater than alpha value of {alpha:.2f}')"
   ]
  },
  {
   "cell_type": "code",
   "execution_count": null,
   "metadata": {},
   "outputs": [],
   "source": []
  },
  {
   "cell_type": "markdown",
   "metadata": {},
   "source": [
    "Problem Statement 22:\n",
    "\n",
    "We want to test whether short people differ with respect to their leadership qualities\n",
    "(Genghis Khan, Adolf Hitler and Napoleon were all stature-deprived, and how many midget\n",
    "MP's are there?) The following table shows the frequencies with which 43 short people and\n",
    "52 tall people were categorized as \"leaders\", \"followers\" or as \"unclassifiable\". Is there a\n",
    "relationship between height and leadership qualities?<br/>\n",
    "[Chi-Square = 10.71, with 2 df: 𝑝 < 0.01]."
   ]
  },
  {
   "cell_type": "markdown",
   "metadata": {},
   "source": [
    "H0 : There is a relationship between height and leadership qualities <br/>\n",
    "H1 : There is no relationship between height and leadership qualities\n"
   ]
  },
  {
   "cell_type": "code",
   "execution_count": 56,
   "metadata": {},
   "outputs": [
    {
     "name": "stdout",
     "output_type": "stream",
     "text": [
      "Reject H0,There is a relationship between the categorical variables\n",
      "Value of chisquared statistic is 10.71 which is greater than critical value of 9.21\n",
      "\n",
      "\n",
      "Reject H0,There is a relationship between the categorical variables\n",
      "P value is 0.005 which is less than alpha value of 0.01\n"
     ]
    }
   ],
   "source": [
    "observed = np.array([[12,32],[22,14],[9,6]])\n",
    "\n",
    "stat, p_value, dof, expected = stats.chi2_contingency(observed)\n",
    "\n",
    "alpha = 0.01\n",
    "\n",
    "critical_value= stats.chi2.ppf(q=1-alpha,df=dof)\n",
    "\n",
    "if stat>=critical_value:\n",
    "    print(\"Reject H0,There is a relationship between the categorical variables\")\n",
    "    print(f'Value of chisquared statistic is {stat:.2f} which is greater than critical value of {critical_value:.2f}')\n",
    "else:\n",
    "    print(\"Retain H0,There is no relationship between the categorical variables\")\n",
    "    print(f'Value of chisquared statistic is {stat:.2f} which is less than critical value of {critical_value:.2f}')\n",
    "    \n",
    "print('\\n')\n",
    "    \n",
    "if p_value<=alpha:\n",
    "    print(\"Reject H0,There is a relationship between the categorical variables\")\n",
    "    print(f'P value is {p_value:.3f} which is less than alpha value of {alpha:.2f}')\n",
    "else:\n",
    "    print(\"Retain H0,There is no relationship between the categorical variables\")\n",
    "    print(f'P value is {p_value:.3f} which is greater than alpha value of {alpha:.2f}')"
   ]
  },
  {
   "cell_type": "code",
   "execution_count": null,
   "metadata": {},
   "outputs": [],
   "source": []
  },
  {
   "cell_type": "markdown",
   "metadata": {},
   "source": [
    "Problem Statement 23: \n",
    "\n",
    "Each respondent in the Current Population Survey of March 1993 was classified as\n",
    "employed, unemployed, or outside the labor force. The results for men in California age 35-\n",
    "44 can be cross-tabulated by marital status, as follows:\n",
    "Men of different marital status seem to have different distributions of labor force status. Or is\n",
    "this just chance variation?"
   ]
  },
  {
   "cell_type": "markdown",
   "metadata": {},
   "source": [
    "H0 : Men of different marital status don't have different distributions of labor force status<br/>\n",
    "H1 : Men of different marital status have different distributions of labor force status"
   ]
  },
  {
   "cell_type": "code",
   "execution_count": 57,
   "metadata": {},
   "outputs": [
    {
     "name": "stdout",
     "output_type": "stream",
     "text": [
      "Reject H0,There is a relationship between the categorical variables\n",
      "Value of chisquared statistic is 31.61 which is greater than critical value of 9.49\n",
      "\n",
      "\n",
      "Reject H0,There is a relationship between the categorical variables\n",
      "P value is 0.000 which is less than alpha value of 0.05\n"
     ]
    }
   ],
   "source": [
    "observed = np.array([[679,103,114],[63,10,20],[42,18,25]])\n",
    "\n",
    "stat, p_value, dof, expected = stats.chi2_contingency(observed)\n",
    "\n",
    "alpha = 0.05\n",
    "\n",
    "critical_value= stats.chi2.ppf(q=1-alpha,df=dof)\n",
    "\n",
    "if stat>=critical_value:\n",
    "    print(\"Reject H0,There is a relationship between the categorical variables\")\n",
    "    print(f'Value of chisquared statistic is {stat:.2f} which is greater than critical value of {critical_value:.2f}')\n",
    "else:\n",
    "    print(\"Retain H0,There is no relationship between the categorical variables\")\n",
    "    print(f'Value of chisquared statistic is {stat:.2f} which is less than critical value of {critical_value:.2f}')\n",
    "    \n",
    "print('\\n')\n",
    "    \n",
    "if p_value<=alpha:\n",
    "    print(\"Reject H0,There is a relationship between the categorical variables\")\n",
    "    print(f'P value is {p_value:.3f} which is less than alpha value of {alpha:.2f}')\n",
    "else:\n",
    "    print(\"Retain H0,There is no relationship between the categorical variables\")\n",
    "    print(f'P value is {p_value:.3f} which is greater than alpha value of {alpha:.2f}')"
   ]
  },
  {
   "cell_type": "code",
   "execution_count": null,
   "metadata": {},
   "outputs": [],
   "source": []
  }
 ],
 "metadata": {
  "kernelspec": {
   "display_name": "Python 3",
   "language": "python",
   "name": "python3"
  },
  "language_info": {
   "codemirror_mode": {
    "name": "ipython",
    "version": 3
   },
   "file_extension": ".py",
   "mimetype": "text/x-python",
   "name": "python",
   "nbconvert_exporter": "python",
   "pygments_lexer": "ipython3",
   "version": "3.8.3"
  }
 },
 "nbformat": 4,
 "nbformat_minor": 4
}
